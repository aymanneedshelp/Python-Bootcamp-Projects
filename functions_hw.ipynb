{
 "cells": [
  {
   "cell_type": "markdown",
   "metadata": {},
   "source": [
    "1) Write a function that computes the volume of a sphere given its radius"
   ]
  },
  {
   "cell_type": "code",
   "execution_count": 3,
   "metadata": {},
   "outputs": [],
   "source": [
    "from math import pi\n",
    "def vol(r):\n",
    "    v = (4/3)*pi*(r**3)\n",
    "    return v"
   ]
  },
  {
   "cell_type": "code",
   "execution_count": 4,
   "metadata": {},
   "outputs": [
    {
     "name": "stdout",
     "output_type": "stream",
     "text": [
      "113.09733552923254\n"
     ]
    }
   ],
   "source": [
    "v = vol(3)\n",
    "print(v)"
   ]
  },
  {
   "cell_type": "markdown",
   "metadata": {},
   "source": [
    "2) Write a function that checks whether a number is in a given range (inclusive of high and low)"
   ]
  },
  {
   "cell_type": "code",
   "execution_count": 6,
   "metadata": {},
   "outputs": [],
   "source": [
    "def rand_check(n,low,high):\n",
    "    if low <= n <= high:\n",
    "        return True\n",
    "    else:\n",
    "        return False"
   ]
  },
  {
   "cell_type": "code",
   "execution_count": 8,
   "metadata": {},
   "outputs": [
    {
     "data": {
      "text/plain": [
       "False"
      ]
     },
     "execution_count": 8,
     "metadata": {},
     "output_type": "execute_result"
    }
   ],
   "source": [
    "rand_check(2,3,5)"
   ]
  },
  {
   "cell_type": "markdown",
   "metadata": {},
   "source": [
    "3) Write a Python function that accepts a string and calculates the number of upper case letters and lower case letters."
   ]
  },
  {
   "cell_type": "code",
   "execution_count": 15,
   "metadata": {},
   "outputs": [],
   "source": [
    "def upper_and_lower(myString):\n",
    "    myList = list(myString)\n",
    "    uc_count,lc_count = 0,0\n",
    "    for i in myList:\n",
    "        if i.isupper():\n",
    "            uc_count += 1\n",
    "        elif i.islower():\n",
    "            lc_count += 1\n",
    "    return uc_count,lc_count"
   ]
  },
  {
   "cell_type": "code",
   "execution_count": 16,
   "metadata": {},
   "outputs": [
    {
     "name": "stdout",
     "output_type": "stream",
     "text": [
      "UC: 5\n",
      "LC: 36\n"
     ]
    }
   ],
   "source": [
    "uc,lc = upper_and_lower(\"Hello there My name is Ayman Khan and I am 18 years old\")\n",
    "print(\"UC:\",uc)\n",
    "print(\"LC:\",lc)"
   ]
  },
  {
   "cell_type": "markdown",
   "metadata": {},
   "source": [
    "4) Write a Python function that takes a list and returns a new list with unique elements of the first list."
   ]
  },
  {
   "cell_type": "code",
   "execution_count": 18,
   "metadata": {},
   "outputs": [],
   "source": [
    "def unique_list(myList):\n",
    "    unique = list()\n",
    "    for i in myList:\n",
    "        if i not in unique:\n",
    "            unique.append(i)\n",
    "    return unique"
   ]
  },
  {
   "cell_type": "code",
   "execution_count": 20,
   "metadata": {},
   "outputs": [
    {
     "name": "stdout",
     "output_type": "stream",
     "text": [
      "[1, 2, 3, 5, 4, 6, 7, 8]\n"
     ]
    }
   ],
   "source": [
    "lst = unique_list([1,2,3,3,5,5,1,1,2,4,6,7,8])\n",
    "print(lst)"
   ]
  },
  {
   "cell_type": "markdown",
   "metadata": {},
   "source": [
    "5) Write a Python function to check whether a string is pangram or not. (Assume the string passed in does not have any punctuation)"
   ]
  },
  {
   "cell_type": "code",
   "execution_count": 21,
   "metadata": {},
   "outputs": [],
   "source": [
    "from string import ascii_lowercase\n",
    "def panagram(mystring):\n",
    "    mystring = mystring.lower()\n",
    "    l = list(mystring)\n",
    "    l2 = list(ascii_lowercase)\n",
    "    for i in l:\n",
    "        if i in l2:\n",
    "            l2.remove(i)\n",
    "    if len(l2) == 0:\n",
    "        return True\n",
    "    else:\n",
    "        return False"
   ]
  },
  {
   "cell_type": "code",
   "execution_count": 22,
   "metadata": {},
   "outputs": [
    {
     "data": {
      "text/plain": [
       "True"
      ]
     },
     "execution_count": 22,
     "metadata": {},
     "output_type": "execute_result"
    }
   ],
   "source": [
    "panagram(\"The quick brown fox jumps over the lazy dog\")"
   ]
  }
 ],
 "metadata": {
  "kernelspec": {
   "display_name": "Python 3",
   "language": "python",
   "name": "python3"
  },
  "language_info": {
   "codemirror_mode": {
    "name": "ipython",
    "version": 3
   },
   "file_extension": ".py",
   "mimetype": "text/x-python",
   "name": "python",
   "nbconvert_exporter": "python",
   "pygments_lexer": "ipython3",
   "version": "3.8.5"
  }
 },
 "nbformat": 4,
 "nbformat_minor": 4
}
